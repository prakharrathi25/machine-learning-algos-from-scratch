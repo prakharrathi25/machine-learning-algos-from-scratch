{
 "cells": [
  {
   "cell_type": "markdown",
   "metadata": {},
   "source": [
    "# Building a Linear Regression Algorithm \n",
    "\n",
    "The aim of this notebook is to breakdown this algorithm to the core and implement it using **just numpy** and pandas (only for dataset manipulation). I use matplotlib for the visualisation of what is happening but it is obviously not used in the algorithm. \n",
    "\n",
    "I am making the implementation by closely following the documentation of sklearn and some blogs to fully understand each part of the algorithm. I think closely following [Andrew Ng](https://www.coursera.org/learn/machine-learning) can also do the trick. \n",
    "\n",
    "For each function, I will also try to explain the intuition behind the step to the best of my abilities. Start by importing the only modules that we will be using."
   ]
  },
  {
   "cell_type": "code",
   "execution_count": 1,
   "metadata": {},
   "outputs": [],
   "source": [
    "# Import necessary functions\n",
    "import numpy as np \n",
    "import pandas as pd \n",
    "import matplotlib.pyplot as plt"
   ]
  },
  {
   "cell_type": "markdown",
   "metadata": {},
   "source": [
    "## Dataset\n",
    "\n",
    "As for the data, I will not be getting into a very huge dataset because honestly, that is not the goal here. We cal learn data cleaning in another tut but this is all about the algorithm. Let's go with some sklearn toy dataset - **diabetes dataset**. Here's a quick intro to the data from the sklearn website.\n",
    "\n",
    "![Data Description](images/dataset_desc.JPG)"
   ]
  },
  {
   "cell_type": "code",
   "execution_count": 19,
   "metadata": {},
   "outputs": [
    {
     "name": "stdout",
     "output_type": "stream",
     "text": [
      "Number of entries:  442\n",
      "Number of targets: 442\n"
     ]
    }
   ],
   "source": [
    "from sklearn.datasets import load_diabetes\n",
    "\n",
    "dataset = load_diabetes()\n",
    "\n",
    "# Load the features into X and target into y\n",
    "X = dataset.data\n",
    "y = dataset.target[:,np.newaxis]    # Add a new axis to get a column vector \n",
    "print(\"Number of entries: \", X.shape[0])\n",
    "print(\"Number of targets:\", y.shape[0])"
   ]
  },
  {
   "cell_type": "markdown",
   "metadata": {},
   "source": [
    "## Intro to Linear Regression"
   ]
  },
  {
   "cell_type": "code",
   "execution_count": null,
   "metadata": {},
   "outputs": [],
   "source": []
  }
 ],
 "metadata": {
  "kernelspec": {
   "display_name": "Python 3",
   "language": "python",
   "name": "python3"
  },
  "language_info": {
   "codemirror_mode": {
    "name": "ipython",
    "version": 3
   },
   "file_extension": ".py",
   "mimetype": "text/x-python",
   "name": "python",
   "nbconvert_exporter": "python",
   "pygments_lexer": "ipython3",
   "version": "3.6.4"
  },
  "toc": {
   "base_numbering": 1,
   "nav_menu": {},
   "number_sections": true,
   "sideBar": true,
   "skip_h1_title": false,
   "title_cell": "Table of Contents",
   "title_sidebar": "Contents",
   "toc_cell": false,
   "toc_position": {},
   "toc_section_display": true,
   "toc_window_display": false
  }
 },
 "nbformat": 4,
 "nbformat_minor": 2
}
