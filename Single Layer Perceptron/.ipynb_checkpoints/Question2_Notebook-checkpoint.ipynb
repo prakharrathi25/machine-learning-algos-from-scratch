{
 "cells": [
  {
   "cell_type": "markdown",
   "metadata": {},
   "source": [
    "# Question 2 - Build and Apply a perceptron\n",
    "\n",
    "For the same set of images and same features, build a perceptron to classify the\n",
    "images. Start the training with similar weights to both the features, and then train with the\n",
    "40 samples to build the classifier. Apply the classifier on 5 images."
   ]
  },
  {
   "cell_type": "code",
   "execution_count": 47,
   "metadata": {},
   "outputs": [],
   "source": [
    "# Import necessary libraries\n",
    "import numpy as np \n",
    "import pandas as pd\n",
    "from sklearn.metrics import accuracy_score\n",
    "\n",
    "import matplotlib.pyplot as plt\n",
    "import seaborn as sns\n",
    "from sklearn.decomposition import PCA"
   ]
  },
  {
   "cell_type": "markdown",
   "metadata": {},
   "source": [
    "## Build a Perceptron Class"
   ]
  },
  {
   "cell_type": "code",
   "execution_count": 10,
   "metadata": {},
   "outputs": [],
   "source": [
    "class Perceptron():\n",
    "    \n",
    "    # Initialise the weights and the bias\n",
    "    def __init__(self, input_size, epochs=10, learning_rate=1):\n",
    "        self.W = np.zeros(input_size+1)\n",
    "        # add one ot the input shape to account for w0 which is the bias\n",
    "        self.b = 0\n",
    "        \n",
    "        # Hyperparameters\n",
    "        self.epochs = epochs\n",
    "        self.lr = learning_rate    # Fixed Learning Rate\n",
    "    \n",
    "    # Create an activation function which returns 1 for positive outputs and 0 otherwise\n",
    "    def activation(self, x):\n",
    "        return 1 if x >= -0.5 else 0\n",
    "    \n",
    "    # Create a prediction function which will take input features and \n",
    "    def get_pred(self, x):\n",
    "        \n",
    "        # Get the output as Wt.X\n",
    "        z = np.dot(self.W.T, x)\n",
    "        a = self.activation(z)\n",
    "        return a\n",
    "    \n",
    "    # Create a training function which would minimize the error\n",
    "    def fit(self, X, labels):\n",
    "        for e in range(self.epochs):\n",
    "            print(\"Training Epoch: \", e+1)\n",
    "            for i in range(X.shape[0]):\n",
    "                x = np.insert(X[i], 0, 1)\n",
    "                # insert a one at the beginning of the X vector to pad it \n",
    "                \n",
    "                y = self.get_pred(x)\n",
    "                error = labels[i] - y\n",
    "                self.W = self.W + (self.lr * error * x)\n",
    "\n",
    "    # Create a predict function \n",
    "    def predict(self, X):\n",
    "        preds = []\n",
    "        for i in range(X.shape[0]):\n",
    "            x = np.insert(X[i], 0, 1)\n",
    "            y = self.get_pred(x)\n",
    "            preds.append(y)\n",
    "        \n",
    "        return np.array(preds)\n",
    "                \n",
    "    def get_weights(self):\n",
    "        return self.W   "
   ]
  },
  {
   "cell_type": "markdown",
   "metadata": {},
   "source": [
    "## Training Step"
   ]
  },
  {
   "cell_type": "code",
   "execution_count": 3,
   "metadata": {},
   "outputs": [
    {
     "name": "stdout",
     "output_type": "stream",
     "text": [
      "(190, 2049) (20, 2049)\n"
     ]
    }
   ],
   "source": [
    "# Read the training and testing data\n",
    "train_data = pd.read_csv('../Datasets/final_data.csv', index_col=0)\n",
    "test_data = pd.read_csv('../Datasets/test_data.csv', index_col=0)\n",
    "print(train_data.shape, test_data.shape)"
   ]
  },
  {
   "cell_type": "code",
   "execution_count": 4,
   "metadata": {},
   "outputs": [],
   "source": [
    "# Assign classes as 0s and 1s \n",
    "train_data['class'] = train_data['class'].map({ \"cat\":0, \"dog\":1 })\n",
    "test_data['class'] = test_data['class'].map({ \"cat\":0, \"dog\":1 })"
   ]
  },
  {
   "cell_type": "code",
   "execution_count": 5,
   "metadata": {},
   "outputs": [],
   "source": [
    "# Get the training and testing data \n",
    "X_train = train_data.drop(['class'], axis=1).values\n",
    "X_test = test_data.drop(['class'], axis=1).values\n",
    "\n",
    "y_train = train_data['class'].to_numpy()\n",
    "y_test = test_data['class'].to_numpy()"
   ]
  },
  {
   "cell_type": "code",
   "execution_count": 6,
   "metadata": {},
   "outputs": [
    {
     "name": "stdout",
     "output_type": "stream",
     "text": [
      "Training Epoch:  0\n",
      "Training Epoch:  1\n",
      "Training Epoch:  2\n",
      "Training Epoch:  3\n",
      "Training Epoch:  4\n",
      "Training Epoch:  5\n",
      "Training Epoch:  6\n",
      "Training Epoch:  7\n",
      "Training Epoch:  8\n",
      "Training Epoch:  9\n",
      "[ 1.00000000e+00 -5.90333333e+02 -1.41133333e+03 ... -6.41555556e+03\n",
      "  3.60555556e+03 -2.64044444e+03]\n"
     ]
    }
   ],
   "source": [
    "# Training Phase\n",
    "perceptron = Perceptron(input_size=X_train.shape[1])\n",
    "perceptron.fit(X_train, y_train)\n",
    "\n",
    "# Collect the weights and bias\n",
    "train_weights = perceptron.get_weights()\n",
    "print(train_weights)"
   ]
  },
  {
   "cell_type": "markdown",
   "metadata": {},
   "source": [
    "## Testing Step"
   ]
  },
  {
   "cell_type": "code",
   "execution_count": 9,
   "metadata": {},
   "outputs": [
    {
     "name": "stdout",
     "output_type": "stream",
     "text": [
      "Accuracy of the algorithm: 0.45\n"
     ]
    }
   ],
   "source": [
    "# Get the predictions\n",
    "preds = perceptron.predict(X_test)\n",
    "print(\"Accuracy of the algorithm:\", accuracy_score(y_true=y_test, y_pred=preds))"
   ]
  },
  {
   "cell_type": "markdown",
   "metadata": {},
   "source": [
    "### Testing with different learning rates"
   ]
  },
  {
   "cell_type": "code",
   "execution_count": 12,
   "metadata": {},
   "outputs": [
    {
     "name": "stdout",
     "output_type": "stream",
     "text": [
      "Training Epoch:  1\n",
      "Training Epoch:  2\n",
      "Training Epoch:  3\n",
      "Training Epoch:  4\n",
      "Training Epoch:  5\n",
      "Training Epoch:  6\n",
      "Training Epoch:  7\n",
      "Training Epoch:  8\n",
      "Training Epoch:  9\n",
      "Training Epoch:  10\n",
      "Accuracy of the algorithm: 0.45\n"
     ]
    }
   ],
   "source": [
    "learning_rate = 0.01\n",
    "\n",
    "# Training Phase\n",
    "perceptron = Perceptron(input_size=X_train.shape[1], learning_rate=learning_rate)\n",
    "perceptron.fit(X_train, y_train)\n",
    "\n",
    "# Collect the weights and bias\n",
    "train_weights = perceptron.get_weights()\n",
    "\n",
    "# Get the predictions\n",
    "preds = perceptron.predict(X_test)\n",
    "print(\"Accuracy of the algorithm:\", accuracy_score(y_true=y_test, y_pred=preds))"
   ]
  },
  {
   "cell_type": "code",
   "execution_count": 13,
   "metadata": {},
   "outputs": [
    {
     "name": "stdout",
     "output_type": "stream",
     "text": [
      "Training Epoch:  1\n",
      "Training Epoch:  2\n",
      "Training Epoch:  3\n",
      "Training Epoch:  4\n",
      "Training Epoch:  5\n",
      "Training Epoch:  6\n",
      "Training Epoch:  7\n",
      "Training Epoch:  8\n",
      "Training Epoch:  9\n",
      "Training Epoch:  10\n",
      "Accuracy of the algorithm: 0.45\n"
     ]
    }
   ],
   "source": [
    "learning_rate = 0.1\n",
    "\n",
    "# Training Phase\n",
    "perceptron = Perceptron(input_size=X_train.shape[1], learning_rate=learning_rate)\n",
    "perceptron.fit(X_train, y_train)\n",
    "\n",
    "# Collect the weights and bias\n",
    "train_weights = perceptron.get_weights()\n",
    "\n",
    "# Get the predictions\n",
    "preds = perceptron.predict(X_test)\n",
    "print(\"Accuracy of the algorithm:\", accuracy_score(y_true=y_test, y_pred=preds))"
   ]
  },
  {
   "cell_type": "code",
   "execution_count": 16,
   "metadata": {},
   "outputs": [
    {
     "name": "stdout",
     "output_type": "stream",
     "text": [
      "Training Epoch:  1\n",
      "Training Epoch:  2\n",
      "Training Epoch:  3\n",
      "Training Epoch:  4\n",
      "Training Epoch:  5\n",
      "Training Epoch:  6\n",
      "Training Epoch:  7\n",
      "Training Epoch:  8\n",
      "Training Epoch:  9\n",
      "Training Epoch:  10\n",
      "Accuracy of the algorithm: 0.45\n"
     ]
    }
   ],
   "source": [
    "learning_rate = 1\n",
    "\n",
    "# Training Phase\n",
    "perceptron = Perceptron(input_size=X_train.shape[1], learning_rate=learning_rate)\n",
    "perceptron.fit(X_train, y_train)\n",
    "\n",
    "# Collect the weights and bias\n",
    "train_weights = perceptron.get_weights()\n",
    "\n",
    "# Get the predictions\n",
    "preds = perceptron.predict(X_test)\n",
    "print(\"Accuracy of the algorithm:\", accuracy_score(y_true=y_test, y_pred=preds))"
   ]
  },
  {
   "cell_type": "markdown",
   "metadata": {},
   "source": [
    "### Performing PCA to get image points separation (Additional Steps: Not part of the original question)\n",
    "\n",
    "Since, there are over 2000 columns, I have to apply PCA to get two components. These two components are just a representation of the whole data and will not be very accurate. To get the slope and the weights, I have done the same and tried to minimize the train weights to single weights for each dimension. I have done plotted a perceptron line for the points. The line seems to be okay and classifies dogs correctly in the data. "
   ]
  },
  {
   "cell_type": "code",
   "execution_count": 53,
   "metadata": {},
   "outputs": [],
   "source": [
    "# PCA for points \n",
    "pca = PCA(n_components=2)\n",
    "principalComponents = pca.fit_transform(X_test)\n",
    "\n",
    "principalDf = pd.DataFrame(data = principalComponents, columns = ['pc1', 'pc2'])\n",
    "principalDf = pd.concat([principalDf, test_data['class']], axis=1)"
   ]
  },
  {
   "cell_type": "code",
   "execution_count": 91,
   "metadata": {},
   "outputs": [],
   "source": [
    "# PCA for weights\n",
    "pca1 = PCA(n_components=1)\n",
    "principalComponents = pca1.fit_transform(pd.DataFrame(train_weights[1:].T))\n",
    "\n",
    "principal_weights = pd.DataFrame(data = principalComponents, columns = ['pc1'])"
   ]
  },
  {
   "cell_type": "code",
   "execution_count": 54,
   "metadata": {},
   "outputs": [
    {
     "data": {
      "text/plain": [
       "<AxesSubplot:xlabel='pc1', ylabel='pc2'>"
      ]
     },
     "execution_count": 54,
     "metadata": {},
     "output_type": "execute_result"
    },
    {
     "data": {
      "image/png": "[encoded data removed]",
      "text/plain": [
       "<Figure size 432x288 with 1 Axes>"
      ]
     },
     "metadata": {
      "needs_background": "light"
     },
     "output_type": "display_data"
    }
   ],
   "source": [
    "# Plot the points\n",
    "sns.scatterplot(x='pc1', y='pc2', hue='class', data=principalDf)"
   ]
  },
  {
   "cell_type": "markdown",
   "metadata": {},
   "source": [
    "These points barely seem to be linearly separable and hence, the low accuracy seems justified. "
   ]
  },
  {
   "cell_type": "code",
   "execution_count": 55,
   "metadata": {},
   "outputs": [
    {
     "data": {
      "text/html": [
       "<div>\n",
       "<style scoped>\n",
       "    .dataframe tbody tr th:only-of-type {\n",
       "        vertical-align: middle;\n",
       "    }\n",
       "\n",
       "    .dataframe tbody tr th {\n",
       "        vertical-align: top;\n",
       "    }\n",
       "\n",
       "    .dataframe thead th {\n",
       "        text-align: right;\n",
       "    }\n",
       "</style>\n",
       "<table border=\"1\" class=\"dataframe\">\n",
       "  <thead>\n",
       "    <tr style=\"text-align: right;\">\n",
       "      <th></th>\n",
       "      <th>pc1</th>\n",
       "      <th>pc2</th>\n",
       "      <th>class</th>\n",
       "    </tr>\n",
       "  </thead>\n",
       "  <tbody>\n",
       "    <tr>\n",
       "      <th>0</th>\n",
       "      <td>16023.247820</td>\n",
       "      <td>-182.526672</td>\n",
       "      <td>1</td>\n",
       "    </tr>\n",
       "    <tr>\n",
       "      <th>1</th>\n",
       "      <td>-8076.850433</td>\n",
       "      <td>-1771.306018</td>\n",
       "      <td>1</td>\n",
       "    </tr>\n",
       "    <tr>\n",
       "      <th>2</th>\n",
       "      <td>-6689.056285</td>\n",
       "      <td>-1156.787458</td>\n",
       "      <td>0</td>\n",
       "    </tr>\n",
       "    <tr>\n",
       "      <th>3</th>\n",
       "      <td>-8405.988623</td>\n",
       "      <td>-5387.761360</td>\n",
       "      <td>0</td>\n",
       "    </tr>\n",
       "    <tr>\n",
       "      <th>4</th>\n",
       "      <td>-3112.643512</td>\n",
       "      <td>2887.940985</td>\n",
       "      <td>0</td>\n",
       "    </tr>\n",
       "    <tr>\n",
       "      <th>5</th>\n",
       "      <td>-1634.996200</td>\n",
       "      <td>-8303.730485</td>\n",
       "      <td>0</td>\n",
       "    </tr>\n",
       "    <tr>\n",
       "      <th>6</th>\n",
       "      <td>-10438.798509</td>\n",
       "      <td>-2518.146718</td>\n",
       "      <td>0</td>\n",
       "    </tr>\n",
       "    <tr>\n",
       "      <th>7</th>\n",
       "      <td>-11755.477826</td>\n",
       "      <td>474.908383</td>\n",
       "      <td>0</td>\n",
       "    </tr>\n",
       "    <tr>\n",
       "      <th>8</th>\n",
       "      <td>-14014.971748</td>\n",
       "      <td>-2147.756890</td>\n",
       "      <td>0</td>\n",
       "    </tr>\n",
       "    <tr>\n",
       "      <th>9</th>\n",
       "      <td>-3926.377477</td>\n",
       "      <td>-2661.594799</td>\n",
       "      <td>1</td>\n",
       "    </tr>\n",
       "    <tr>\n",
       "      <th>10</th>\n",
       "      <td>-11873.616837</td>\n",
       "      <td>-2187.396156</td>\n",
       "      <td>0</td>\n",
       "    </tr>\n",
       "    <tr>\n",
       "      <th>11</th>\n",
       "      <td>-10049.436122</td>\n",
       "      <td>-1409.038929</td>\n",
       "      <td>1</td>\n",
       "    </tr>\n",
       "    <tr>\n",
       "      <th>12</th>\n",
       "      <td>-1408.774658</td>\n",
       "      <td>-2009.568891</td>\n",
       "      <td>1</td>\n",
       "    </tr>\n",
       "    <tr>\n",
       "      <th>13</th>\n",
       "      <td>2839.280793</td>\n",
       "      <td>-4481.058264</td>\n",
       "      <td>1</td>\n",
       "    </tr>\n",
       "    <tr>\n",
       "      <th>14</th>\n",
       "      <td>-8896.702951</td>\n",
       "      <td>-1749.183878</td>\n",
       "      <td>1</td>\n",
       "    </tr>\n",
       "    <tr>\n",
       "      <th>15</th>\n",
       "      <td>-8729.919923</td>\n",
       "      <td>-2577.784403</td>\n",
       "      <td>0</td>\n",
       "    </tr>\n",
       "    <tr>\n",
       "      <th>16</th>\n",
       "      <td>89933.526201</td>\n",
       "      <td>-4810.858623</td>\n",
       "      <td>1</td>\n",
       "    </tr>\n",
       "    <tr>\n",
       "      <th>17</th>\n",
       "      <td>239.109092</td>\n",
       "      <td>-465.778957</td>\n",
       "      <td>1</td>\n",
       "    </tr>\n",
       "    <tr>\n",
       "      <th>18</th>\n",
       "      <td>-5293.381586</td>\n",
       "      <td>-1980.703309</td>\n",
       "      <td>1</td>\n",
       "    </tr>\n",
       "    <tr>\n",
       "      <th>19</th>\n",
       "      <td>5271.828784</td>\n",
       "      <td>42438.132442</td>\n",
       "      <td>0</td>\n",
       "    </tr>\n",
       "  </tbody>\n",
       "</table>\n",
       "</div>"
      ],
      "text/plain": [
       "             pc1           pc2  class\n",
       "0   16023.247820   -182.526672      1\n",
       "1   -8076.850433  -1771.306018      1\n",
       "2   -6689.056285  -1156.787458      0\n",
       "3   -8405.988623  -5387.761360      0\n",
       "4   -3112.643512   2887.940985      0\n",
       "5   -1634.996200  -8303.730485      0\n",
       "6  -10438.798509  -2518.146718      0\n",
       "7  -11755.477826    474.908383      0\n",
       "8  -14014.971748  -2147.756890      0\n",
       "9   -3926.377477  -2661.594799      1\n",
       "10 -11873.616837  -2187.396156      0\n",
       "11 -10049.436122  -1409.038929      1\n",
       "12  -1408.774658  -2009.568891      1\n",
       "13   2839.280793  -4481.058264      1\n",
       "14  -8896.702951  -1749.183878      1\n",
       "15  -8729.919923  -2577.784403      0\n",
       "16  89933.526201  -4810.858623      1\n",
       "17    239.109092   -465.778957      1\n",
       "18  -5293.381586  -1980.703309      1\n",
       "19   5271.828784  42438.132442      0"
      ]
     },
     "execution_count": 55,
     "metadata": {},
     "output_type": "execute_result"
    }
   ],
   "source": [
    "principalDf"
   ]
  },
  {
   "cell_type": "code",
   "execution_count": 89,
   "metadata": {},
   "outputs": [],
   "source": [
    "# Plot the line\n",
    "bias = train_weights[0]\n",
    "weight = principal_weights.values[1]"
   ]
  },
  {
   "cell_type": "code",
   "execution_count": 90,
   "metadata": {},
   "outputs": [
    {
     "data": {
      "image/png": "[encoded data removed]",
      "text/plain": [
       "<Figure size 432x288 with 1 Axes>"
      ]
     },
     "metadata": {
      "needs_background": "light"
     },
     "output_type": "display_data"
    }
   ],
   "source": [
    "x = np.linspace(-50,50,100)\n",
    "y = weight*x + bias\n",
    "sns.scatterplot(x='pc1', y='pc2', hue='class', data=principalDf)\n",
    "plt.plot(x, y, '-r')\n",
    "plt.title(\"Perceptron Classifier Line\")\n",
    "plt.xlabel('x', color='#1C2833')\n",
    "plt.ylabel('y', color='#1C2833')\n",
    "plt.legend(loc='upper left')\n",
    "plt.grid()\n",
    "plt.show()"
   ]
  },
  {
   "cell_type": "code",
   "execution_count": null,
   "metadata": {},
   "outputs": [],
   "source": []
  }
 ],
 "metadata": {
  "kernelspec": {
   "display_name": "Python 3",
   "language": "python",
   "name": "python3"
  },
  "language_info": {
   "codemirror_mode": {
    "name": "ipython",
    "version": 3
   },
   "file_extension": ".py",
   "mimetype": "text/x-python",
   "name": "python",
   "nbconvert_exporter": "python",
   "pygments_lexer": "ipython3",
   "version": "3.6.4"
  },
  "toc": {
   "base_numbering": 1,
   "nav_menu": {},
   "number_sections": true,
   "sideBar": true,
   "skip_h1_title": false,
   "title_cell": "Table of Contents",
   "title_sidebar": "Contents",
   "toc_cell": false,
   "toc_position": {},
   "toc_section_display": true,
   "toc_window_display": false
  }
 },
 "nbformat": 4,
 "nbformat_minor": 2
}
